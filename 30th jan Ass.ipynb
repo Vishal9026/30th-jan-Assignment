{
 "cells": [
  {
   "cell_type": "code",
   "execution_count": 1,
   "id": "445f6e95-deff-419e-a7fe-0ab8eaa89ba6",
   "metadata": {},
   "outputs": [
    {
     "name": "stdin",
     "output_type": "stream",
     "text": [
      "enter your marks: 45\n"
     ]
    },
    {
     "name": "stdout",
     "output_type": "stream",
     "text": [
      "Grade D\n"
     ]
    }
   ],
   "source": [
    "# ASSIGNMENT 2 \n",
    "# ANSWER-1)\n",
    "\n",
    "mark = int(input('enter your marks:'))\n",
    "if mark > 90 :\n",
    "    print('Grade A')\n",
    "elif mark > 80 and mark <= 90:\n",
    "    \n",
    "    print('Grade B')        \n",
    "elif mark >= 60 and mark <= 80:\n",
    "     print('Grade C')        \n",
    "else:\n",
    "    print('Grade D')"
   ]
  },
  {
   "cell_type": "code",
   "execution_count": 2,
   "id": "6d387dfb-5c19-4413-a0b9-e4674948cc8b",
   "metadata": {},
   "outputs": [
    {
     "name": "stdin",
     "output_type": "stream",
     "text": [
      "enter cost price of bike: 100000\n"
     ]
    },
    {
     "name": "stdout",
     "output_type": "stream",
     "text": [
      "tax paid 10%\n"
     ]
    }
   ],
   "source": [
    "# ANSWER-2)\n",
    "cost_price = int(input('enter cost price of bike:'))\n",
    "if cost_price > 100000:\n",
    "    print('tax paid 15%')\n",
    "elif cost_price > 50000 and cost_price <= 100000:\n",
    "    print('tax paid 10%')\n",
    "else:\n",
    "    print('tax paid 5%')"
   ]
  },
  {
   "cell_type": "code",
   "execution_count": 3,
   "id": "61e587cc-d97c-470b-86bb-b51d40191e7c",
   "metadata": {},
   "outputs": [
    {
     "name": "stdin",
     "output_type": "stream",
     "text": [
      "enter your city name: Agra\n"
     ]
    },
    {
     "name": "stdout",
     "output_type": "stream",
     "text": [
      "Taj Mahal\n"
     ]
    }
   ],
   "source": [
    "# ANSWER-3)\n",
    "city = input('enter your city name:')\n",
    "if city == 'Delhi' :\n",
    "    print('Red Fort')\n",
    "elif city == 'Agra':\n",
    "    print('Taj Mahal')\n",
    "elif city == 'Jaipur':\n",
    "    print('Jal Mahal')"
   ]
  },
  {
   "cell_type": "code",
   "execution_count": 4,
   "id": "ae06bda7-b6f6-4b5c-a744-21672daa2110",
   "metadata": {},
   "outputs": [
    {
     "name": "stdin",
     "output_type": "stream",
     "text": [
      "Enter a number: 3\n"
     ]
    },
    {
     "name": "stdout",
     "output_type": "stream",
     "text": [
      "Number is divided by 3 before it is <= 10 is  0  times\n"
     ]
    }
   ],
   "source": [
    "# ANSWER-4)\n",
    "n= int(input(\"Enter a number:\"))\n",
    "count=0\n",
    "\n",
    "while n > 10:\n",
    "    if n%3==0:\n",
    "        n=n/3\n",
    "        count=count+1\n",
    "\n",
    "print(\"Number is divided by 3 before it is <= 10 is \",count,\" times\")"
   ]
  },
  {
   "cell_type": "code",
   "execution_count": 5,
   "id": "442604dc-4846-42e9-8141-7062d598602d",
   "metadata": {},
   "outputs": [
    {
     "name": "stdin",
     "output_type": "stream",
     "text": [
      "enter your limit: 3\n"
     ]
    },
    {
     "data": {
      "text/plain": [
       "6"
      ]
     },
     "execution_count": 5,
     "metadata": {},
     "output_type": "execute_result"
    }
   ],
   "source": [
    "# ANSWER-5)\n",
    "'''Python while loop is used to run a block code until a certain condition is met.\n",
    "Here,\n",
    "\n",
    "A while loop evaluates the condition\n",
    "If the condition evaluates to True, the code inside the while loop is executed.\n",
    "condition is evaluated again.\n",
    "This process continues until the condition is False.\n",
    "When condition evaluates to False, the loop stops.\n",
    "that's why we use while loop in python.\n",
    "example:'''\n",
    "n=int(input('enter your limit:'))\n",
    "starting_point = 0\n",
    "counter = 1\n",
    "while counter <=n :\n",
    "    starting_point = starting_point + counter\n",
    "    counter = counter + 1\n",
    "starting_point "
   ]
  },
  {
   "cell_type": "code",
   "execution_count": 7,
   "id": "f13dc87d-b8bd-4403-a5bc-bfbe4ee3d3c0",
   "metadata": {},
   "outputs": [
    {
     "name": "stdout",
     "output_type": "stream",
     "text": [
      "*\n",
      "**\n",
      "***\n",
      "****\n",
      "*****\n"
     ]
    }
   ],
   "source": [
    "# ANSWER-6)\n",
    "rows = 5\n",
    "i = 1\n",
    "while i <= rows:\n",
    "    j = 1\n",
    "    while j <= i:\n",
    "        print(\"*\", end=\"\")\n",
    "        j += 1\n",
    "    print(\"\")\n",
    "    i += 1"
   ]
  },
  {
   "cell_type": "code",
   "execution_count": 8,
   "id": "ad8a7e9c-7f2d-4330-b4ea-fafbb20ed4ba",
   "metadata": {},
   "outputs": [
    {
     "name": "stdout",
     "output_type": "stream",
     "text": [
      "1\n",
      "12\n",
      "123\n",
      "1234\n",
      "12345\n"
     ]
    }
   ],
   "source": [
    "# ANSWER-6)\n",
    "i =1\n",
    "while i <= 5:\n",
    "    j = 1\n",
    "    while j<= i:\n",
    "        print(j,end=\"\")\n",
    "        j = j+1\n",
    "    print(\"\")\n",
    "    i = i+1"
   ]
  },
  {
   "cell_type": "code",
   "execution_count": 6,
   "id": "cdd840b7-a323-4ac3-bb35-9b590f4d27f2",
   "metadata": {},
   "outputs": [
    {
     "name": "stdout",
     "output_type": "stream",
     "text": [
      "10\n",
      "9\n",
      "8\n",
      "7\n",
      "6\n",
      "5\n",
      "4\n",
      "3\n",
      "2\n",
      "1\n"
     ]
    }
   ],
   "source": [
    "# ANSWER-7)\n",
    "i = 10\n",
    "while i>0:\n",
    "    print(i)\n",
    "    i = i-1"
   ]
  },
  {
   "cell_type": "code",
   "execution_count": null,
   "id": "0954c614-c7c0-4a3a-9f60-5de9990f5202",
   "metadata": {},
   "outputs": [],
   "source": []
  }
 ],
 "metadata": {
  "kernelspec": {
   "display_name": "Python 3 (ipykernel)",
   "language": "python",
   "name": "python3"
  },
  "language_info": {
   "codemirror_mode": {
    "name": "ipython",
    "version": 3
   },
   "file_extension": ".py",
   "mimetype": "text/x-python",
   "name": "python",
   "nbconvert_exporter": "python",
   "pygments_lexer": "ipython3",
   "version": "3.10.8"
  }
 },
 "nbformat": 4,
 "nbformat_minor": 5
}
